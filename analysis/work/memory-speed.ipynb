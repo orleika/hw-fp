{
 "cells": [
  {
   "cell_type": "code",
   "execution_count": 1,
   "metadata": {},
   "outputs": [
    {
     "data": {
      "text/html": [
       "<script>requirejs.config({paths: { 'plotly': ['https://cdn.plot.ly/plotly-latest.min']},});if(!window.Plotly) {{require(['plotly'],function(plotly) {window.Plotly=plotly;});}}</script>"
      ],
      "text/vnd.plotly.v1+html": [
       "<script>requirejs.config({paths: { 'plotly': ['https://cdn.plot.ly/plotly-latest.min']},});if(!window.Plotly) {{require(['plotly'],function(plotly) {window.Plotly=plotly;});}}</script>"
      ]
     },
     "metadata": {},
     "output_type": "display_data"
    }
   ],
   "source": [
    "%matplotlib inline\n",
    "import numpy as np\n",
    "import pandas as pd\n",
    "from plotly import __version__\n",
    "from plotly.offline import download_plotlyjs, init_notebook_mode, plot, iplot\n",
    "from plotly.graph_objs import Scatter, Figure, Layout\n",
    "init_notebook_mode(connected=True)"
   ]
  },
  {
   "cell_type": "code",
   "execution_count": 2,
   "metadata": {},
   "outputs": [
    {
     "data": {
      "text/html": [
       "<div>\n",
       "<table border=\"1\" class=\"dataframe\">\n",
       "  <thead>\n",
       "    <tr style=\"text-align: right;\">\n",
       "      <th></th>\n",
       "      <th>comment</th>\n",
       "      <th>id</th>\n",
       "      <th>time</th>\n",
       "    </tr>\n",
       "  </thead>\n",
       "  <tbody>\n",
       "    <tr>\n",
       "      <th>0</th>\n",
       "      <td>Windows, Chrome, taneoka</td>\n",
       "      <td>0</td>\n",
       "      <td>[2.4700000000000273, 7.370000000000004, 65.815...</td>\n",
       "    </tr>\n",
       "    <tr>\n",
       "      <th>1</th>\n",
       "      <td>Windows, Chrome, takahashi</td>\n",
       "      <td>1</td>\n",
       "      <td>[1.880000000000023, 5.7900000000000205, 53.930...</td>\n",
       "    </tr>\n",
       "    <tr>\n",
       "      <th>2</th>\n",
       "      <td>Mac, Chrome, koshiba</td>\n",
       "      <td>2</td>\n",
       "      <td>[1.034999999999996, 4.274999999999977, 45.0100...</td>\n",
       "    </tr>\n",
       "    <tr>\n",
       "      <th>3</th>\n",
       "      <td>MacBook Pro, Chrome, hosoya</td>\n",
       "      <td>3</td>\n",
       "      <td>[0.9350000000000591, 5.370000000000004, 39.345...</td>\n",
       "    </tr>\n",
       "    <tr>\n",
       "      <th>4</th>\n",
       "      <td>Android, Chrome, hosoya</td>\n",
       "      <td>4</td>\n",
       "      <td>[10.589999999999918, 28.11500000000001, 192.86...</td>\n",
       "    </tr>\n",
       "    <tr>\n",
       "      <th>5</th>\n",
       "      <td>Windows, Chrome, noda</td>\n",
       "      <td>5</td>\n",
       "      <td>[1.490000000000009, 6.225000000000023, 51.2549...</td>\n",
       "    </tr>\n",
       "    <tr>\n",
       "      <th>6</th>\n",
       "      <td>Windows, Chrome, saito</td>\n",
       "      <td>6</td>\n",
       "      <td>[5.884999999999877, 16.745000000000005, 145.28...</td>\n",
       "    </tr>\n",
       "    <tr>\n",
       "      <th>7</th>\n",
       "      <td>Windows, Chrome, saitolab_web</td>\n",
       "      <td>7</td>\n",
       "      <td>[0.984999999999956, 4.09499999999997, 39.50500...</td>\n",
       "    </tr>\n",
       "  </tbody>\n",
       "</table>\n",
       "</div>"
      ],
      "text/plain": [
       "                         comment  id  \\\n",
       "0       Windows, Chrome, taneoka   0   \n",
       "1     Windows, Chrome, takahashi   1   \n",
       "2           Mac, Chrome, koshiba   2   \n",
       "3    MacBook Pro, Chrome, hosoya   3   \n",
       "4        Android, Chrome, hosoya   4   \n",
       "5          Windows, Chrome, noda   5   \n",
       "6         Windows, Chrome, saito   6   \n",
       "7  Windows, Chrome, saitolab_web   7   \n",
       "\n",
       "                                                time  \n",
       "0  [2.4700000000000273, 7.370000000000004, 65.815...  \n",
       "1  [1.880000000000023, 5.7900000000000205, 53.930...  \n",
       "2  [1.034999999999996, 4.274999999999977, 45.0100...  \n",
       "3  [0.9350000000000591, 5.370000000000004, 39.345...  \n",
       "4  [10.589999999999918, 28.11500000000001, 192.86...  \n",
       "5  [1.490000000000009, 6.225000000000023, 51.2549...  \n",
       "6  [5.884999999999877, 16.745000000000005, 145.28...  \n",
       "7  [0.984999999999956, 4.09499999999997, 39.50500...  "
      ]
     },
     "execution_count": 2,
     "metadata": {},
     "output_type": "execute_result"
    }
   ],
   "source": [
    "df = pd.read_json('memory/data.json')\n",
    "df"
   ]
  },
  {
   "cell_type": "code",
   "execution_count": 3,
   "metadata": {},
   "outputs": [
    {
     "data": {
      "text/plain": [
       "[{'mode': 'lines',\n",
       "  'name': 'sample0',\n",
       "  'type': 'scatter',\n",
       "  'x': [1, 2, 3, 4, 5],\n",
       "  'y': [1.0,\n",
       "   2.9838056680161626,\n",
       "   26.645748987853977,\n",
       "   251.269230769228,\n",
       "   2621.2834008096875]},\n",
       " {'mode': 'lines',\n",
       "  'name': 'sample1',\n",
       "  'type': 'scatter',\n",
       "  'x': [1, 2, 3, 4, 5],\n",
       "  'y': [1.0,\n",
       "   3.0797872340425263,\n",
       "   28.686170212765624,\n",
       "   265.48138297872015,\n",
       "   2685.457446808478]},\n",
       " {'mode': 'lines',\n",
       "  'name': 'sample2',\n",
       "  'type': 'scatter',\n",
       "  'x': [1, 2, 3, 4, 5],\n",
       "  'y': [1.0,\n",
       "   4.13043478260869,\n",
       "   43.4879227053142,\n",
       "   405.4541062801948,\n",
       "   3715.7198067633]},\n",
       " {'mode': 'lines',\n",
       "  'name': 'sample3',\n",
       "  'type': 'scatter',\n",
       "  'x': [1, 2, 3, 4, 5],\n",
       "  'y': [1.0,\n",
       "   5.743315508021031,\n",
       "   42.080213903740685,\n",
       "   397.15508021387853,\n",
       "   4202.700534759094]},\n",
       " {'mode': 'lines',\n",
       "  'name': 'sample4',\n",
       "  'type': 'scatter',\n",
       "  'x': [1, 2, 3, 4, 5],\n",
       "  'y': [1.0,\n",
       "   2.654863078375848,\n",
       "   18.211520302172,\n",
       "   177.67705382436398,\n",
       "   2163.3446647781093]},\n",
       " {'mode': 'lines',\n",
       "  'name': 'sample5',\n",
       "  'type': 'scatter',\n",
       "  'x': [1, 2, 3, 4, 5],\n",
       "  'y': [1.0,\n",
       "   4.177852348993278,\n",
       "   34.39932885906019,\n",
       "   316.0973154362396,\n",
       "   3198.912751677833]},\n",
       " {'mode': 'lines',\n",
       "  'name': 'sample6',\n",
       "  'type': 'scatter',\n",
       "  'x': [1, 2, 3, 4, 5],\n",
       "  'y': [1.0,\n",
       "   2.845369583687401,\n",
       "   24.687340696687002,\n",
       "   253.90399320306395,\n",
       "   2599.486830926138]},\n",
       " {'mode': 'lines',\n",
       "  'name': 'sample7',\n",
       "  'type': 'scatter',\n",
       "  'x': [1, 2, 3, 4, 5],\n",
       "  'y': [1.0,\n",
       "   4.157360406091526,\n",
       "   40.10659898477342,\n",
       "   398.9340101523021,\n",
       "   3994.4060913707367]}]"
      ]
     },
     "execution_count": 3,
     "metadata": {},
     "output_type": "execute_result"
    }
   ],
   "source": [
    "X = df.apply((lambda x: \n",
    "              Scatter(\n",
    "                  x=list(range(1, 6)),\n",
    "                  y=(np.array(x.time) / x.time[0]).tolist(),\n",
    "                  mode='lines',\n",
    "                  name='sample' + str(x.id)\n",
    "              )), axis=1)\n",
    "# np.array(X[0])\n",
    "X.tolist()"
   ]
  },
  {
   "cell_type": "code",
   "execution_count": 4,
   "metadata": {},
   "outputs": [
    {
     "data": {
      "application/vnd.plotly.v1+json": {
       "data": [
        {
         "mode": "lines",
         "name": "sample0",
         "type": "scatter",
         "x": [
          1,
          2,
          3,
          4,
          5
         ],
         "y": [
          1,
          2.9838056680161626,
          26.645748987853977,
          251.269230769228,
          2621.2834008096875
         ]
        },
        {
         "mode": "lines",
         "name": "sample1",
         "type": "scatter",
         "x": [
          1,
          2,
          3,
          4,
          5
         ],
         "y": [
          1,
          3.0797872340425263,
          28.686170212765624,
          265.48138297872015,
          2685.457446808478
         ]
        },
        {
         "mode": "lines",
         "name": "sample2",
         "type": "scatter",
         "x": [
          1,
          2,
          3,
          4,
          5
         ],
         "y": [
          1,
          4.13043478260869,
          43.4879227053142,
          405.4541062801948,
          3715.7198067633
         ]
        },
        {
         "mode": "lines",
         "name": "sample3",
         "type": "scatter",
         "x": [
          1,
          2,
          3,
          4,
          5
         ],
         "y": [
          1,
          5.743315508021031,
          42.080213903740685,
          397.15508021387853,
          4202.700534759094
         ]
        },
        {
         "mode": "lines",
         "name": "sample4",
         "type": "scatter",
         "x": [
          1,
          2,
          3,
          4,
          5
         ],
         "y": [
          1,
          2.654863078375848,
          18.211520302172,
          177.67705382436398,
          2163.3446647781093
         ]
        },
        {
         "mode": "lines",
         "name": "sample5",
         "type": "scatter",
         "x": [
          1,
          2,
          3,
          4,
          5
         ],
         "y": [
          1,
          4.177852348993278,
          34.39932885906019,
          316.0973154362396,
          3198.912751677833
         ]
        },
        {
         "mode": "lines",
         "name": "sample6",
         "type": "scatter",
         "x": [
          1,
          2,
          3,
          4,
          5
         ],
         "y": [
          1,
          2.845369583687401,
          24.687340696687002,
          253.90399320306395,
          2599.486830926138
         ]
        },
        {
         "mode": "lines",
         "name": "sample7",
         "type": "scatter",
         "x": [
          1,
          2,
          3,
          4,
          5
         ],
         "y": [
          1,
          4.157360406091526,
          40.10659898477342,
          398.9340101523021,
          3994.4060913707367
         ]
        }
       ],
       "layout": {}
      },
      "text/html": [
       "<div id=\"88ca8929-5d0e-4fb3-b035-370fcb69a616\" style=\"height: 525px; width: 100%;\" class=\"plotly-graph-div\"></div><script type=\"text/javascript\">require([\"plotly\"], function(Plotly) { window.PLOTLYENV=window.PLOTLYENV || {};window.PLOTLYENV.BASE_URL=\"https://plot.ly\";Plotly.newPlot(\"88ca8929-5d0e-4fb3-b035-370fcb69a616\", [{\"type\": \"scatter\", \"x\": [1, 2, 3, 4, 5], \"y\": [1.0, 2.9838056680161626, 26.645748987853977, 251.269230769228, 2621.2834008096875], \"mode\": \"lines\", \"name\": \"sample0\"}, {\"type\": \"scatter\", \"x\": [1, 2, 3, 4, 5], \"y\": [1.0, 3.0797872340425263, 28.686170212765624, 265.48138297872015, 2685.457446808478], \"mode\": \"lines\", \"name\": \"sample1\"}, {\"type\": \"scatter\", \"x\": [1, 2, 3, 4, 5], \"y\": [1.0, 4.13043478260869, 43.4879227053142, 405.4541062801948, 3715.7198067633], \"mode\": \"lines\", \"name\": \"sample2\"}, {\"type\": \"scatter\", \"x\": [1, 2, 3, 4, 5], \"y\": [1.0, 5.743315508021031, 42.080213903740685, 397.15508021387853, 4202.700534759094], \"mode\": \"lines\", \"name\": \"sample3\"}, {\"type\": \"scatter\", \"x\": [1, 2, 3, 4, 5], \"y\": [1.0, 2.654863078375848, 18.211520302172, 177.67705382436398, 2163.3446647781093], \"mode\": \"lines\", \"name\": \"sample4\"}, {\"type\": \"scatter\", \"x\": [1, 2, 3, 4, 5], \"y\": [1.0, 4.177852348993278, 34.39932885906019, 316.0973154362396, 3198.912751677833], \"mode\": \"lines\", \"name\": \"sample5\"}, {\"type\": \"scatter\", \"x\": [1, 2, 3, 4, 5], \"y\": [1.0, 2.845369583687401, 24.687340696687002, 253.90399320306395, 2599.486830926138], \"mode\": \"lines\", \"name\": \"sample6\"}, {\"type\": \"scatter\", \"x\": [1, 2, 3, 4, 5], \"y\": [1.0, 4.157360406091526, 40.10659898477342, 398.9340101523021, 3994.4060913707367], \"mode\": \"lines\", \"name\": \"sample7\"}], {}, {\"showLink\": true, \"linkText\": \"Export to plot.ly\"})});</script>"
      ],
      "text/vnd.plotly.v1+html": [
       "<div id=\"88ca8929-5d0e-4fb3-b035-370fcb69a616\" style=\"height: 525px; width: 100%;\" class=\"plotly-graph-div\"></div><script type=\"text/javascript\">require([\"plotly\"], function(Plotly) { window.PLOTLYENV=window.PLOTLYENV || {};window.PLOTLYENV.BASE_URL=\"https://plot.ly\";Plotly.newPlot(\"88ca8929-5d0e-4fb3-b035-370fcb69a616\", [{\"type\": \"scatter\", \"x\": [1, 2, 3, 4, 5], \"y\": [1.0, 2.9838056680161626, 26.645748987853977, 251.269230769228, 2621.2834008096875], \"mode\": \"lines\", \"name\": \"sample0\"}, {\"type\": \"scatter\", \"x\": [1, 2, 3, 4, 5], \"y\": [1.0, 3.0797872340425263, 28.686170212765624, 265.48138297872015, 2685.457446808478], \"mode\": \"lines\", \"name\": \"sample1\"}, {\"type\": \"scatter\", \"x\": [1, 2, 3, 4, 5], \"y\": [1.0, 4.13043478260869, 43.4879227053142, 405.4541062801948, 3715.7198067633], \"mode\": \"lines\", \"name\": \"sample2\"}, {\"type\": \"scatter\", \"x\": [1, 2, 3, 4, 5], \"y\": [1.0, 5.743315508021031, 42.080213903740685, 397.15508021387853, 4202.700534759094], \"mode\": \"lines\", \"name\": \"sample3\"}, {\"type\": \"scatter\", \"x\": [1, 2, 3, 4, 5], \"y\": [1.0, 2.654863078375848, 18.211520302172, 177.67705382436398, 2163.3446647781093], \"mode\": \"lines\", \"name\": \"sample4\"}, {\"type\": \"scatter\", \"x\": [1, 2, 3, 4, 5], \"y\": [1.0, 4.177852348993278, 34.39932885906019, 316.0973154362396, 3198.912751677833], \"mode\": \"lines\", \"name\": \"sample5\"}, {\"type\": \"scatter\", \"x\": [1, 2, 3, 4, 5], \"y\": [1.0, 2.845369583687401, 24.687340696687002, 253.90399320306395, 2599.486830926138], \"mode\": \"lines\", \"name\": \"sample6\"}, {\"type\": \"scatter\", \"x\": [1, 2, 3, 4, 5], \"y\": [1.0, 4.157360406091526, 40.10659898477342, 398.9340101523021, 3994.4060913707367], \"mode\": \"lines\", \"name\": \"sample7\"}], {}, {\"showLink\": true, \"linkText\": \"Export to plot.ly\"})});</script>"
      ]
     },
     "metadata": {},
     "output_type": "display_data"
    },
    {
     "data": {
      "text/html": [
       "<script>function downloadimage(format, height, width, filename) {var p = document.getElementById('88ca8929-5d0e-4fb3-b035-370fcb69a616');Plotly.downloadImage(p, {format: format, height: height, width: width, filename: filename});};if(document.readyState == 'complete') {{downloadimage('svg', 600, 800, 'plot_image');}}</script>"
      ],
      "text/plain": [
       "<IPython.core.display.HTML object>"
      ]
     },
     "metadata": {},
     "output_type": "display_data"
    }
   ],
   "source": [
    "iplot(X.tolist(), image='svg')"
   ]
  },
  {
   "cell_type": "code",
   "execution_count": null,
   "metadata": {},
   "outputs": [],
   "source": []
  }
 ],
 "metadata": {
  "kernelspec": {
   "display_name": "Python 3",
   "language": "python",
   "name": "python3"
  },
  "language_info": {
   "codemirror_mode": {
    "name": "ipython",
    "version": 3
   },
   "file_extension": ".py",
   "mimetype": "text/x-python",
   "name": "python",
   "nbconvert_exporter": "python",
   "pygments_lexer": "ipython3",
   "version": "3.6.2"
  }
 },
 "nbformat": 4,
 "nbformat_minor": 2
}
