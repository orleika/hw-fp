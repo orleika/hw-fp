{
 "cells": [
  {
   "cell_type": "code",
   "execution_count": 26,
   "metadata": {},
   "outputs": [
    {
     "data": {
      "text/plain": [
       "array([[4, 8],\n",
       "       [2, 4],\n",
       "       [2, 4],\n",
       "       [4, 4],\n",
       "       [0, 0],\n",
       "       [2, 4],\n",
       "       [2, 4],\n",
       "       [2, 4],\n",
       "       [2, 4],\n",
       "       [2, 4],\n",
       "       [2, 4],\n",
       "       [2, 4],\n",
       "       [4, 8],\n",
       "       [4, 4],\n",
       "       [2, 4],\n",
       "       [4, 8],\n",
       "       [2, 4],\n",
       "       [4, 4],\n",
       "       [0, 0],\n",
       "       [2, 4],\n",
       "       [2, 2],\n",
       "       [2, 2],\n",
       "       [4, 8],\n",
       "       [4, 8],\n",
       "       [4, 8],\n",
       "       [4, 8],\n",
       "       [2, 4],\n",
       "       [2, 0],\n",
       "       [2, 4],\n",
       "       [4, 8],\n",
       "       [2, 4],\n",
       "       [4, 8],\n",
       "       [2, 4],\n",
       "       [2, 4],\n",
       "       [2, 4],\n",
       "       [2, 0],\n",
       "       [2, 2],\n",
       "       [4, 4],\n",
       "       [4, 4],\n",
       "       [0, 0],\n",
       "       [4, 0],\n",
       "       [2, 4],\n",
       "       [4, 8],\n",
       "       [2, 2],\n",
       "       [2, 4],\n",
       "       [4, 4],\n",
       "       [2, 2],\n",
       "       [2, 4],\n",
       "       [2, 4],\n",
       "       [2, 4],\n",
       "       [2, 4],\n",
       "       [2, 4],\n",
       "       [2, 4],\n",
       "       [2, 4],\n",
       "       [2, 4],\n",
       "       [2, 4],\n",
       "       [2, 4],\n",
       "       [2, 4],\n",
       "       [2, 4],\n",
       "       [2, 4],\n",
       "       [2, 4]])"
      ]
     },
     "metadata": {},
     "output_type": "display_data"
    },
    {
     "data": {
      "text/plain": [
       "array([[  1.        ,   0.94895985,   7.3733672 ],\n",
       "       [  1.        ,   0.06352418,   0.49476773],\n",
       "       [  1.        ,   0.03496893,   0.1856043 ],\n",
       "       [  1.        ,   0.24541052,   1.27755857],\n",
       "       [  1.        ,   0.52467452,   3.36884236],\n",
       "       [  1.        ,   0.96046932,   1.42691731],\n",
       "       [  1.        ,   0.51181378,   3.21832714],\n",
       "       [  1.        ,   0.49123386,   2.99987624],\n",
       "       [  1.        ,   0.15154963,   1.05330195],\n",
       "       [  1.        ,   0.4802244 ,   3.64804648],\n",
       "       [  1.        ,   0.69131998,   0.74627632],\n",
       "       [  1.        ,   0.51619057,   2.61242787],\n",
       "       [  1.        ,   0.33861305,   1.41744577],\n",
       "       [  1.        ,   0.54651915,   1.96515554],\n",
       "       [  1.        ,   0.12037175,   0.62190581],\n",
       "       [  1.        ,   0.4655819 ,   1.93059175],\n",
       "       [  1.        ,   0.07196337,   0.43107654],\n",
       "       [  1.        ,   0.03321686,   0.20020654],\n",
       "       [  1.        ,   0.22158311,   1.01718558],\n",
       "       [  1.        ,   0.24325011,   0.85174254],\n",
       "       [  1.        ,   0.09818   ,   0.41327986],\n",
       "       [  1.        ,   0.05457772,   0.43903581],\n",
       "       [  1.        ,   0.57890703,   2.12378325],\n",
       "       [  1.        ,   0.08346319,   0.30665312],\n",
       "       [  1.        ,   0.91241093,   3.25267221],\n",
       "       [  1.        ,   0.4233163 ,   1.31513434],\n",
       "       [  1.        ,   0.33688173,   1.88047947],\n",
       "       [  1.        ,   0.51329178,   2.61956759],\n",
       "       [  1.        ,   0.11015748,   1.30968338],\n",
       "       [  1.        ,   0.42862987,   1.83617227],\n",
       "       [  1.        ,   0.08093698,   0.47392195],\n",
       "       [  1.        ,   0.65517241,   2.48141164],\n",
       "       [  1.        ,   0.07643357,   0.39972668],\n",
       "       [  1.        ,   0.16850241,   1.66371383],\n",
       "       [  1.        ,   0.38792647,   1.57578406],\n",
       "       [  1.        ,   0.663434  ,   2.64511135],\n",
       "       [  1.        ,   0.18962871,  10.20434755],\n",
       "       [  1.        ,   0.43424684,   2.74705004],\n",
       "       [  1.        ,   0.25613863,   0.94929888],\n",
       "       [  1.        ,   0.10821182,   1.02993093],\n",
       "       [  1.        ,   0.29588993,   1.36443748],\n",
       "       [  1.        ,   0.06764102,   0.52101208],\n",
       "       [  1.        ,   0.12896098,   0.42736554],\n",
       "       [  1.        ,   0.54522757,   3.19673727],\n",
       "       [  1.        ,   0.33224026,   1.62351913],\n",
       "       [  1.        ,   0.4       ,   1.78909091],\n",
       "       [  1.        ,   0.21904762,   1.90360786],\n",
       "       [  1.        ,   0.64552336,   3.42230753],\n",
       "       [  1.        ,   0.41612704,   1.18867487],\n",
       "       [  1.        ,   0.15617828,   0.60748104],\n",
       "       [  1.        ,   1.20779032,   9.61976022],\n",
       "       [  1.        ,   0.2256709 ,   1.77689901],\n",
       "       [  1.        ,   0.15641649,   3.83319402],\n",
       "       [  1.        ,   0.60481639,   8.4921588 ],\n",
       "       [  1.        ,   0.13593944,   0.9833358 ],\n",
       "       [  1.        ,   0.23592229,   1.26546537],\n",
       "       [  1.        ,   0.22220835,   1.33245086],\n",
       "       [  1.        ,   0.45240637,   3.25033647],\n",
       "       [  1.        ,   0.40801287,   3.86217598],\n",
       "       [  1.        ,   0.18851882,   1.06340101],\n",
       "       [  1.        ,   0.27268537,   1.44574369]])"
      ]
     },
     "metadata": {},
     "output_type": "display_data"
    }
   ],
   "source": [
    "import numpy as np\n",
    "import pandas as pd\n",
    "import json\n",
    "import re\n",
    "from operator import add\n",
    "from ua_parser import user_agent_parser\n",
    "from IPython.display import display\n",
    "from sklearn.linear_model import LinearRegression\n",
    "import sklearn.svm as svm\n",
    "\n",
    "# svc = svm.LinearSVC(random_state=state)\n",
    "\n",
    "\n",
    "# CPUコア数，スレッド数\n",
    "def cpu_name_filter(text):\n",
    "    regex = r'type 4,.+?Version: (.+?)Voltage'\n",
    "    pattern = re.compile(regex)\n",
    "    match = pattern.search(text.replace('\\n', ''))\n",
    "    display(text)\n",
    "    return int(match.group(1))\n",
    "\n",
    "def cpu_core_filter(text):\n",
    "    regex = r'Core Count: ([0-9])'\n",
    "    pattern = re.compile(regex)\n",
    "    match = pattern.search(text.replace('\\n', ''))\n",
    "    if match == None:\n",
    "        return 0\n",
    "    return int(match.group(1))\n",
    "\n",
    "def cpu_thread_filter(text):\n",
    "    regex = r'Thread Count: ([0-9])'\n",
    "    pattern = re.compile(regex)\n",
    "    match = pattern.search(text.replace('\\n', ''))\n",
    "    if match == None:\n",
    "        return 0\n",
    "    return int(match.group(1))\n",
    "\n",
    "df = pd.read_json('data.json')\n",
    "# display(df)\n",
    "\n",
    "cpu = np.array(list(df.apply((lambda x:\n",
    "                 [cpu_core_filter(x.smbios), cpu_thread_filter(x.smbios)]\n",
    "                 ), axis=1)))\n",
    "display(cpu)\n",
    "\n",
    "worker = df.apply((lambda x:\n",
    "                  json.loads(x.worker)\n",
    "                 ), axis=1)\n",
    "\n",
    "worker = np.array(list(worker.apply((lambda x:\n",
    "                 list(np.array(x) / x[0])\n",
    "             ))))\n",
    "\n",
    "display(worker)\n",
    "\n",
    "X = worker\n",
    "Y = cpu"
   ]
  },
  {
   "cell_type": "code",
   "execution_count": 25,
   "metadata": {},
   "outputs": [],
   "source": [
    "trim_sample = [6, 20, 29, 37, 41, 42]\n",
    "X_trimmed = np.delete(X, trim_sample, 0)\n",
    "Y_trimmed = np.delete(Y, trim_sample, 0)"
   ]
  },
  {
   "cell_type": "code",
   "execution_count": 23,
   "metadata": {},
   "outputs": [
    {
     "data": {
      "text/plain": [
       "array([[ 0.        ,  1.19763275, -0.1044326 ],\n",
       "       [ 0.        ,  2.49703472, -0.19302254]])"
      ]
     },
     "metadata": {},
     "output_type": "display_data"
    },
    {
     "data": {
      "text/plain": [
       "array([ 2.25779717,  3.62636039])"
      ]
     },
     "metadata": {},
     "output_type": "display_data"
    },
    {
     "data": {
      "text/plain": [
       "0.058289174924262097"
      ]
     },
     "metadata": {},
     "output_type": "display_data"
    }
   ],
   "source": [
    "clf = LinearRegression()\n",
    "clf.fit(X, Y)\n",
    "display(clf.coef_)\n",
    "display(clf.intercept_)\n",
    "display(clf.score(X, Y))"
   ]
  },
  {
   "cell_type": "code",
   "execution_count": null,
   "metadata": {},
   "outputs": [],
   "source": [
    "X = df.apply((lambda x: \n",
    "              Scatter(\n",
    "                  x=list(range(1, 6)),\n",
    "                  y=(np.array(x.time) / x.time[0]).tolist(),\n",
    "                  mode='lines',\n",
    "                  name='sample' + str(x.id)\n",
    "              )), axis=1)"
   ]
  }
 ],
 "metadata": {
  "kernelspec": {
   "display_name": "Python 3",
   "language": "python",
   "name": "python3"
  },
  "language_info": {
   "codemirror_mode": {
    "name": "ipython",
    "version": 3
   },
   "file_extension": ".py",
   "mimetype": "text/x-python",
   "name": "python",
   "nbconvert_exporter": "python",
   "pygments_lexer": "ipython3",
   "version": "3.6.2"
  }
 },
 "nbformat": 4,
 "nbformat_minor": 2
}
