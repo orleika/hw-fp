{
 "cells": [
  {
   "cell_type": "code",
   "execution_count": 98,
   "metadata": {},
   "outputs": [],
   "source": [
    "import numpy as np\n",
    "import pandas as pd\n",
    "import json\n",
    "import re\n",
    "from operator import add\n",
    "from ua_parser import user_agent_parser\n",
    "from IPython.display import display\n",
    "from sklearn.linear_model import LinearRegression\n",
    "\n",
    "def memory_speed_filter(text):\n",
    "    regex = r'type 17.+ ([0-9]+) (MH|MT)'\n",
    "    pattern = re.compile(regex)\n",
    "    match = pattern.search(text.replace('\\n', ''))\n",
    "    return int(match.group(1))\n",
    "\n",
    "def cpu_speed_filter(text):\n",
    "    regex = r'type 4.+Current Speed: ([0-9]+) MH'\n",
    "    pattern = re.compile(regex)\n",
    "    match = pattern.search(text.replace('\\n', ''))\n",
    "    return int(match.group(1))\n",
    "\n",
    "def browser_filter(text):\n",
    "    parsed_string = user_agent_parser.ParseUserAgent(text)\n",
    "    family = parsed_string['family']\n",
    "    if family == \"Chrome\":\n",
    "        return 1.3343400040036402\n",
    "    elif family == \"Firefox\":\n",
    "        return 1.0\n",
    "    elif family == \"IE\":\n",
    "        return 9.28240479500004\n",
    "    elif family == \"Opera\":\n",
    "        return 1.0579772683237236\n",
    "    elif family == \"Edge\":\n",
    "        return 9.34620244713113\n",
    "    elif family == \"Safari\":\n",
    "        return 2.770657343907221\n",
    "    else:\n",
    "        return 0\n",
    "\n",
    "df = pd.read_json('data.json')\n",
    "\n",
    "memory = df.apply((lambda x:\n",
    "                  json.loads(x.memory)\n",
    "                 ), axis=1)\n",
    "memory = np.array(list(memory.apply((lambda x:\n",
    "                 list(np.array(x) / x[0])\n",
    "             ))))\n",
    "browser = np.array([list(df.apply((lambda x:\n",
    "                 browser_filter(x.userAgent)\n",
    "                 ), axis=1))])\n",
    "cpu =  np.array([list(df.apply((lambda x:\n",
    "                  cpu_speed_filter(x.smbios)\n",
    "                 ), axis=1))])\n",
    "temp = np.concatenate((memory, browser.T), axis=1)\n",
    "X = np.concatenate((temp, cpu.T), axis=1)\n",
    "\n",
    "# display(X)\n",
    "\n",
    "speed = df.apply((lambda x:\n",
    "                  [memory_speed_filter(x.smbios)]\n",
    "                 ), axis=1)\n",
    "\n",
    "Y = np.array(list(speed))\n",
    "\n",
    "# display(X)\n",
    "# display(Y)\n",
    "\n",
    "# X_trimmed = np.delete(X, [8, 10, 24, 27, 36, 39, 40, 47, 50], 0)\n",
    "# Y_trimmed = np.delete(Y, [8, 10, 24, 27, 36, 39, 40, 47, 50], 0)\n",
    "\n",
    "# X_trimmed = np.delete(X, [0], 1)\n",
    "# Y_trimmed = Y\n",
    "\n",
    "# display(X_trimmed)\n",
    "# display(Y_trimmed)"
   ]
  },
  {
   "cell_type": "code",
   "execution_count": 99,
   "metadata": {},
   "outputs": [
    {
     "data": {
      "text/plain": [
       "array([[  0.00000000e+00,  -1.18931328e+01,  -1.05902450e-02,\n",
       "          2.92355809e-02,   9.02417836e+01,  -1.77249432e-03]])"
      ]
     },
     "metadata": {},
     "output_type": "display_data"
    },
    {
     "data": {
      "text/plain": [
       "array([ 1715.91630802])"
      ]
     },
     "metadata": {},
     "output_type": "display_data"
    },
    {
     "data": {
      "text/plain": [
       "0.127615856693862"
      ]
     },
     "metadata": {},
     "output_type": "display_data"
    }
   ],
   "source": [
    "clf = LinearRegression()\n",
    "clf.fit(X, Y)\n",
    "display(clf.coef_)\n",
    "display(clf.intercept_)\n",
    "display(clf.score(X, Y))\n",
    "\n",
    "# clf = LinearRegression()\n",
    "# clf.fit(X_trimmed, Y_trimmed)\n",
    "# display(clf.coef_)\n",
    "# display(clf.intercept_)\n",
    "# display(clf.score(X_trimmed, Y_trimmed))"
   ]
  },
  {
   "cell_type": "code",
   "execution_count": null,
   "metadata": {},
   "outputs": [],
   "source": []
  }
 ],
 "metadata": {
  "kernelspec": {
   "display_name": "Python 3",
   "language": "python",
   "name": "python3"
  },
  "language_info": {
   "codemirror_mode": {
    "name": "ipython",
    "version": 3
   },
   "file_extension": ".py",
   "mimetype": "text/x-python",
   "name": "python",
   "nbconvert_exporter": "python",
   "pygments_lexer": "ipython3",
   "version": "3.6.2"
  }
 },
 "nbformat": 4,
 "nbformat_minor": 2
}
